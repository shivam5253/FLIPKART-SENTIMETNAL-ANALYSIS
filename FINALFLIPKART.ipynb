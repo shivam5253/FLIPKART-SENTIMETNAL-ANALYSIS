{
 "cells": [
  {
   "cell_type": "code",
   "execution_count": 88,
   "id": "32fe8efe-d194-473a-8d79-5b8d5a168b51",
   "metadata": {
    "tags": []
   },
   "outputs": [
    {
     "name": "stdout",
     "output_type": "stream",
     "text": [
      "Group Details\n",
      "1. Pranav Gupta 22102060\n",
      "2. Shivam Mittal 22102025\n",
      "3. Kartik Kumar 22102005\n"
     ]
    }
   ],
   "source": [
    "print(\"Group Details\")\n",
    "print(\"1. Pranav Gupta 22102060\")\n",
    "print(\"2. Shivam Mittal 22102025\")\n",
    "print(\"3. Kartik Kumar 22102005\")\n"
   ]
  },
  {
   "cell_type": "code",
   "execution_count": 89,
   "id": "47971353-a9e3-49be-9772-711e7f278e69",
   "metadata": {
    "tags": []
   },
   "outputs": [],
   "source": [
    "import pandas as pd\n",
    "import seaborn as sns\n",
    "import matplotlib.pyplot as plt\n",
    "from nltk.sentiment.vader import SentimentIntensityAnalyzer\n",
    "sentiments = SentimentIntensityAnalyzer()\n",
    "from sklearn.feature_extraction.text import CountVectorizer\n",
    "from sklearn.model_selection import train_test_split\n",
    "from sklearn.linear_model import LogisticRegression\n",
    "from sklearn.metrics import accuracy_score, confusion_matrix"
   ]
  },
  {
   "cell_type": "code",
   "execution_count": 90,
   "id": "4e4df738-db3d-4bc9-9076-8063d7ea784a",
   "metadata": {
    "tags": []
   },
   "outputs": [
    {
     "data": {
      "text/html": [
       "<div>\n",
       "<style scoped>\n",
       "    .dataframe tbody tr th:only-of-type {\n",
       "        vertical-align: middle;\n",
       "    }\n",
       "\n",
       "    .dataframe tbody tr th {\n",
       "        vertical-align: top;\n",
       "    }\n",
       "\n",
       "    .dataframe thead th {\n",
       "        text-align: right;\n",
       "    }\n",
       "</style>\n",
       "<table border=\"1\" class=\"dataframe\">\n",
       "  <thead>\n",
       "    <tr style=\"text-align: right;\">\n",
       "      <th></th>\n",
       "      <th>review</th>\n",
       "      <th>rating</th>\n",
       "    </tr>\n",
       "  </thead>\n",
       "  <tbody>\n",
       "    <tr>\n",
       "      <th>0</th>\n",
       "      <td>It was nice produt. I like it's design a lot. ...</td>\n",
       "      <td>5</td>\n",
       "    </tr>\n",
       "    <tr>\n",
       "      <th>1</th>\n",
       "      <td>awesome sound....very pretty to see this nd th...</td>\n",
       "      <td>5</td>\n",
       "    </tr>\n",
       "    <tr>\n",
       "      <th>2</th>\n",
       "      <td>awesome sound quality. pros 7-8 hrs of battery...</td>\n",
       "      <td>4</td>\n",
       "    </tr>\n",
       "    <tr>\n",
       "      <th>3</th>\n",
       "      <td>I think it is such a good product not only as ...</td>\n",
       "      <td>5</td>\n",
       "    </tr>\n",
       "    <tr>\n",
       "      <th>4</th>\n",
       "      <td>awesome bass sound quality very good bettary l...</td>\n",
       "      <td>5</td>\n",
       "    </tr>\n",
       "    <tr>\n",
       "      <th>...</th>\n",
       "      <td>...</td>\n",
       "      <td>...</td>\n",
       "    </tr>\n",
       "    <tr>\n",
       "      <th>9971</th>\n",
       "      <td>GoodREAD MORE</td>\n",
       "      <td>5</td>\n",
       "    </tr>\n",
       "    <tr>\n",
       "      <th>9972</th>\n",
       "      <td>Everything is amazimg but the built is very li...</td>\n",
       "      <td>5</td>\n",
       "    </tr>\n",
       "    <tr>\n",
       "      <th>9973</th>\n",
       "      <td>GoodREAD MORE</td>\n",
       "      <td>5</td>\n",
       "    </tr>\n",
       "    <tr>\n",
       "      <th>9974</th>\n",
       "      <td>Best headphone i have ever used....READ MORE</td>\n",
       "      <td>5</td>\n",
       "    </tr>\n",
       "    <tr>\n",
       "      <th>9975</th>\n",
       "      <td>NiceREAD MORE</td>\n",
       "      <td>5</td>\n",
       "    </tr>\n",
       "  </tbody>\n",
       "</table>\n",
       "<p>9976 rows × 2 columns</p>\n",
       "</div>"
      ],
      "text/plain": [
       "                                                 review  rating\n",
       "0     It was nice produt. I like it's design a lot. ...       5\n",
       "1     awesome sound....very pretty to see this nd th...       5\n",
       "2     awesome sound quality. pros 7-8 hrs of battery...       4\n",
       "3     I think it is such a good product not only as ...       5\n",
       "4     awesome bass sound quality very good bettary l...       5\n",
       "...                                                 ...     ...\n",
       "9971                                      GoodREAD MORE       5\n",
       "9972  Everything is amazimg but the built is very li...       5\n",
       "9973                                      GoodREAD MORE       5\n",
       "9974       Best headphone i have ever used....READ MORE       5\n",
       "9975                                      NiceREAD MORE       5\n",
       "\n",
       "[9976 rows x 2 columns]"
      ]
     },
     "execution_count": 90,
     "metadata": {},
     "output_type": "execute_result"
    }
   ],
   "source": [
    "data = pd.read_csv(\"flipkart_data.csv\")\n",
    "data"
   ]
  },
  {
   "cell_type": "code",
   "execution_count": 91,
   "id": "7f779567-abd3-4ee3-ad6f-3a1879c78a48",
   "metadata": {
    "tags": []
   },
   "outputs": [
    {
     "name": "stdout",
     "output_type": "stream",
     "text": [
      "                                              review  rating\n",
      "0  It was nice produt. I like it's design a lot. ...       5\n",
      "1  awesome sound....very pretty to see this nd th...       5\n",
      "2  awesome sound quality. pros 7-8 hrs of battery...       4\n",
      "3  I think it is such a good product not only as ...       5\n",
      "4  awesome bass sound quality very good bettary l...       5\n"
     ]
    }
   ],
   "source": [
    "print(data.head())"
   ]
  },
  {
   "cell_type": "code",
   "execution_count": 92,
   "id": "d9d4cf35-7e9c-4b49-9c57-d799cf5dc0ab",
   "metadata": {
    "tags": []
   },
   "outputs": [],
   "source": [
    "import nltk\n",
    "from nltk.corpus import stopwords\n",
    "from nltk.tokenize import word_tokenize\n",
    "from nltk.stem import WordNetLemmatizer\n",
    "import re"
   ]
  },
  {
   "cell_type": "code",
   "execution_count": 93,
   "id": "71d4cb4b-e231-4196-80fa-5cd5c5178017",
   "metadata": {
    "tags": []
   },
   "outputs": [
    {
     "name": "stderr",
     "output_type": "stream",
     "text": [
      "[nltk_data] Downloading package stopwords to\n",
      "[nltk_data]     C:\\Users\\shiva\\AppData\\Roaming\\nltk_data...\n",
      "[nltk_data]   Package stopwords is already up-to-date!\n",
      "[nltk_data] Downloading package punkt to\n",
      "[nltk_data]     C:\\Users\\shiva\\AppData\\Roaming\\nltk_data...\n",
      "[nltk_data]   Package punkt is already up-to-date!\n",
      "[nltk_data] Downloading package wordnet to\n",
      "[nltk_data]     C:\\Users\\shiva\\AppData\\Roaming\\nltk_data...\n",
      "[nltk_data]   Package wordnet is already up-to-date!\n"
     ]
    },
    {
     "data": {
      "text/plain": [
       "True"
      ]
     },
     "execution_count": 93,
     "metadata": {},
     "output_type": "execute_result"
    }
   ],
   "source": [
    "nltk.download('stopwords')\n",
    "nltk.download('punkt')\n",
    "nltk.download('wordnet')"
   ]
  },
  {
   "cell_type": "code",
   "execution_count": 116,
   "id": "85f8406e-12d8-4f95-b0af-b92c98722243",
   "metadata": {
    "tags": []
   },
   "outputs": [],
   "source": [
    "# Function for cleaning and preprocessing text\n",
    "def preprocess_text(text):\n",
    "    # Convert text to lowercase\n",
    "    text = text.lower()\n",
    "    # Remove special characters and digits\n",
    "    text = re.sub(r'[^a-zA-Z\\s]', '', text)\n",
    "    # Tokenization\n",
    "    tokens = word_tokenize(text)\n",
    "    # Remove stopwords\n",
    "    stop_words = set(stopwords.words('english'))\n",
    "    tokens = [word for word in tokens if word not in stop_words]\n",
    "    # Lemmatization\n",
    "    lemmatizer = WordNetLemmatizer()\n",
    "    tokens = [lemmatizer.lemmatize(word) for word in tokens]\n",
    "    # Join tokens back into a single string\n",
    "    cleaned_text = ' '.join(tokens)\n",
    "    return cleaned_text\n"
   ]
  },
  {
   "cell_type": "code",
   "execution_count": 96,
   "id": "6ee32002-02c9-4af9-b2fe-dc69ea9b9418",
   "metadata": {
    "tags": []
   },
   "outputs": [],
   "source": [
    "data['cleaned_review'] = data['review'].apply(preprocess_text)"
   ]
  },
  {
   "cell_type": "code",
   "execution_count": 97,
   "id": "b27cde3e-7a5d-45ef-881f-122f1be21104",
   "metadata": {
    "tags": []
   },
   "outputs": [
    {
     "data": {
      "text/html": [
       "<div>\n",
       "<style scoped>\n",
       "    .dataframe tbody tr th:only-of-type {\n",
       "        vertical-align: middle;\n",
       "    }\n",
       "\n",
       "    .dataframe tbody tr th {\n",
       "        vertical-align: top;\n",
       "    }\n",
       "\n",
       "    .dataframe thead th {\n",
       "        text-align: right;\n",
       "    }\n",
       "</style>\n",
       "<table border=\"1\" class=\"dataframe\">\n",
       "  <thead>\n",
       "    <tr style=\"text-align: right;\">\n",
       "      <th></th>\n",
       "      <th>review</th>\n",
       "      <th>rating</th>\n",
       "      <th>cleaned_review</th>\n",
       "    </tr>\n",
       "  </thead>\n",
       "  <tbody>\n",
       "    <tr>\n",
       "      <th>0</th>\n",
       "      <td>It was nice produt. I like it's design a lot. ...</td>\n",
       "      <td>5</td>\n",
       "      <td>nice produt like design lot easy carry looked ...</td>\n",
       "    </tr>\n",
       "    <tr>\n",
       "      <th>1</th>\n",
       "      <td>awesome sound....very pretty to see this nd th...</td>\n",
       "      <td>5</td>\n",
       "      <td>awesome soundvery pretty see nd sound quality ...</td>\n",
       "    </tr>\n",
       "    <tr>\n",
       "      <th>2</th>\n",
       "      <td>awesome sound quality. pros 7-8 hrs of battery...</td>\n",
       "      <td>4</td>\n",
       "      <td>awesome sound quality pro hr battery life incl...</td>\n",
       "    </tr>\n",
       "    <tr>\n",
       "      <th>3</th>\n",
       "      <td>I think it is such a good product not only as ...</td>\n",
       "      <td>5</td>\n",
       "      <td>think good product per quality also design qui...</td>\n",
       "    </tr>\n",
       "    <tr>\n",
       "      <th>4</th>\n",
       "      <td>awesome bass sound quality very good bettary l...</td>\n",
       "      <td>5</td>\n",
       "      <td>awesome bass sound quality good bettary long l...</td>\n",
       "    </tr>\n",
       "    <tr>\n",
       "      <th>...</th>\n",
       "      <td>...</td>\n",
       "      <td>...</td>\n",
       "      <td>...</td>\n",
       "    </tr>\n",
       "    <tr>\n",
       "      <th>9971</th>\n",
       "      <td>GoodREAD MORE</td>\n",
       "      <td>5</td>\n",
       "      <td>goodread</td>\n",
       "    </tr>\n",
       "    <tr>\n",
       "      <th>9972</th>\n",
       "      <td>Everything is amazimg but the built is very li...</td>\n",
       "      <td>5</td>\n",
       "      <td>everything amazimg built lightread</td>\n",
       "    </tr>\n",
       "    <tr>\n",
       "      <th>9973</th>\n",
       "      <td>GoodREAD MORE</td>\n",
       "      <td>5</td>\n",
       "      <td>goodread</td>\n",
       "    </tr>\n",
       "    <tr>\n",
       "      <th>9974</th>\n",
       "      <td>Best headphone i have ever used....READ MORE</td>\n",
       "      <td>5</td>\n",
       "      <td>best headphone ever usedread</td>\n",
       "    </tr>\n",
       "    <tr>\n",
       "      <th>9975</th>\n",
       "      <td>NiceREAD MORE</td>\n",
       "      <td>5</td>\n",
       "      <td>niceread</td>\n",
       "    </tr>\n",
       "  </tbody>\n",
       "</table>\n",
       "<p>9976 rows × 3 columns</p>\n",
       "</div>"
      ],
      "text/plain": [
       "                                                 review  rating  \\\n",
       "0     It was nice produt. I like it's design a lot. ...       5   \n",
       "1     awesome sound....very pretty to see this nd th...       5   \n",
       "2     awesome sound quality. pros 7-8 hrs of battery...       4   \n",
       "3     I think it is such a good product not only as ...       5   \n",
       "4     awesome bass sound quality very good bettary l...       5   \n",
       "...                                                 ...     ...   \n",
       "9971                                      GoodREAD MORE       5   \n",
       "9972  Everything is amazimg but the built is very li...       5   \n",
       "9973                                      GoodREAD MORE       5   \n",
       "9974       Best headphone i have ever used....READ MORE       5   \n",
       "9975                                      NiceREAD MORE       5   \n",
       "\n",
       "                                         cleaned_review  \n",
       "0     nice produt like design lot easy carry looked ...  \n",
       "1     awesome soundvery pretty see nd sound quality ...  \n",
       "2     awesome sound quality pro hr battery life incl...  \n",
       "3     think good product per quality also design qui...  \n",
       "4     awesome bass sound quality good bettary long l...  \n",
       "...                                                 ...  \n",
       "9971                                           goodread  \n",
       "9972                 everything amazimg built lightread  \n",
       "9973                                           goodread  \n",
       "9974                       best headphone ever usedread  \n",
       "9975                                           niceread  \n",
       "\n",
       "[9976 rows x 3 columns]"
      ]
     },
     "execution_count": 97,
     "metadata": {},
     "output_type": "execute_result"
    }
   ],
   "source": [
    "data"
   ]
  },
  {
   "cell_type": "code",
   "execution_count": 95,
   "id": "1e89662c-7e5f-41cc-a112-e9dd8d3b5f82",
   "metadata": {
    "tags": []
   },
   "outputs": [
    {
     "data": {
      "text/html": [
       "<div>\n",
       "<style scoped>\n",
       "    .dataframe tbody tr th:only-of-type {\n",
       "        vertical-align: middle;\n",
       "    }\n",
       "\n",
       "    .dataframe tbody tr th {\n",
       "        vertical-align: top;\n",
       "    }\n",
       "\n",
       "    .dataframe thead th {\n",
       "        text-align: right;\n",
       "    }\n",
       "</style>\n",
       "<table border=\"1\" class=\"dataframe\">\n",
       "  <thead>\n",
       "    <tr style=\"text-align: right;\">\n",
       "      <th></th>\n",
       "      <th>rating</th>\n",
       "    </tr>\n",
       "  </thead>\n",
       "  <tbody>\n",
       "    <tr>\n",
       "      <th>count</th>\n",
       "      <td>9976.000000</td>\n",
       "    </tr>\n",
       "    <tr>\n",
       "      <th>mean</th>\n",
       "      <td>4.215417</td>\n",
       "    </tr>\n",
       "    <tr>\n",
       "      <th>std</th>\n",
       "      <td>1.167911</td>\n",
       "    </tr>\n",
       "    <tr>\n",
       "      <th>min</th>\n",
       "      <td>1.000000</td>\n",
       "    </tr>\n",
       "    <tr>\n",
       "      <th>25%</th>\n",
       "      <td>4.000000</td>\n",
       "    </tr>\n",
       "    <tr>\n",
       "      <th>50%</th>\n",
       "      <td>5.000000</td>\n",
       "    </tr>\n",
       "    <tr>\n",
       "      <th>75%</th>\n",
       "      <td>5.000000</td>\n",
       "    </tr>\n",
       "    <tr>\n",
       "      <th>max</th>\n",
       "      <td>5.000000</td>\n",
       "    </tr>\n",
       "  </tbody>\n",
       "</table>\n",
       "</div>"
      ],
      "text/plain": [
       "            rating\n",
       "count  9976.000000\n",
       "mean      4.215417\n",
       "std       1.167911\n",
       "min       1.000000\n",
       "25%       4.000000\n",
       "50%       5.000000\n",
       "75%       5.000000\n",
       "max       5.000000"
      ]
     },
     "execution_count": 95,
     "metadata": {},
     "output_type": "execute_result"
    }
   ],
   "source": [
    "data.describe()"
   ]
  },
  {
   "cell_type": "code",
   "execution_count": 98,
   "id": "c0858ead-a9a6-463f-8915-666c3ac302fa",
   "metadata": {
    "tags": []
   },
   "outputs": [],
   "source": [
    "ratings = data['rating'].value_counts()"
   ]
  },
  {
   "cell_type": "code",
   "execution_count": 99,
   "id": "3eb5c00c-a225-4f28-a3c4-37c00fca4ab1",
   "metadata": {
    "tags": []
   },
   "outputs": [
    {
     "data": {
      "text/plain": [
       "rating\n",
       "5    5726\n",
       "4    2365\n",
       "3     884\n",
       "1     691\n",
       "2     310\n",
       "Name: count, dtype: int64"
      ]
     },
     "execution_count": 99,
     "metadata": {},
     "output_type": "execute_result"
    }
   ],
   "source": [
    "ratings"
   ]
  },
  {
   "cell_type": "code",
   "execution_count": 100,
   "id": "78c9e8d5-adc3-4788-80c9-0aae6e8c37dc",
   "metadata": {
    "tags": []
   },
   "outputs": [
    {
     "data": {
      "text/plain": [
       "count              9976\n",
       "unique             7694\n",
       "top       GoodREAD MORE\n",
       "freq                264\n",
       "Name: review, dtype: object"
      ]
     },
     "execution_count": 100,
     "metadata": {},
     "output_type": "execute_result"
    }
   ],
   "source": [
    "data.review.describe()"
   ]
  },
  {
   "cell_type": "code",
   "execution_count": 101,
   "id": "a0549c3f-52b4-4763-8491-a01eef9fb958",
   "metadata": {
    "tags": []
   },
   "outputs": [
    {
     "name": "stdout",
     "output_type": "stream",
     "text": [
      "Shape of X: (9976,)\n",
      "Shape of y: (9976,)\n"
     ]
    }
   ],
   "source": [
    "# Ensure the 'cleaned_review' column exists and is properly cleaned\n",
    "data['cleaned_review'] = data['review'].apply(preprocess_text)\n",
    "\n",
    "# Define features (X) and target variable (y)\n",
    "X = data['cleaned_review']  # Features: cleaned reviews\n",
    "y = data['rating']  # Target variable: ratings\n",
    "\n",
    "# Display the shape of X and y to ensure they have the same number of samples\n",
    "print(\"Shape of X:\", X.shape)\n",
    "print(\"Shape of y:\", y.shape)\n"
   ]
  },
  {
   "cell_type": "code",
   "execution_count": 102,
   "id": "a33f32b0-dc6c-48d1-8700-92e8580dd02e",
   "metadata": {
    "tags": []
   },
   "outputs": [
    {
     "name": "stdout",
     "output_type": "stream",
     "text": [
      "Train set - X shape: (7980,)\n",
      "Train set - y shape: (7980,)\n",
      "Test set - X shape: (1996,)\n",
      "Test set - y shape: (1996,)\n"
     ]
    }
   ],
   "source": [
    "# Split the data into train and test sets (80% train, 20% test)\n",
    "X_train, X_test, y_train, y_test = train_test_split(X, y, test_size=0.2, random_state=42)\n",
    "\n",
    "# Display the shape of the train and test sets\n",
    "print(\"Train set - X shape:\", X_train.shape)\n",
    "print(\"Train set - y shape:\", y_train.shape)\n",
    "print(\"Test set - X shape:\", X_test.shape)\n",
    "print(\"Test set - y shape:\", y_test.shape)\n"
   ]
  },
  {
   "cell_type": "code",
   "execution_count": 103,
   "id": "b8dcbaac-f9e5-4374-a08c-87d59204737f",
   "metadata": {
    "tags": []
   },
   "outputs": [
    {
     "name": "stdout",
     "output_type": "stream",
     "text": [
      "Shape of vectorized train data: (7980, 7494)\n",
      "Shape of vectorized test data: (1996, 7494)\n"
     ]
    }
   ],
   "source": [
    "from sklearn.feature_extraction.text import CountVectorizer\n",
    "\n",
    "# Initialize CountVectorizer\n",
    "vectorizer = CountVectorizer()\n",
    "\n",
    "# Fit and transform the cleaned text data\n",
    "X_train_vectorized = vectorizer.fit_transform(X_train)\n",
    "X_test_vectorized = vectorizer.transform(X_test)\n",
    "\n",
    "# Display the shape of the vectorized data\n",
    "print(\"Shape of vectorized train data:\", X_train_vectorized.shape)\n",
    "print(\"Shape of vectorized test data:\", X_test_vectorized.shape)\n"
   ]
  },
  {
   "cell_type": "code",
   "execution_count": 105,
   "id": "ec919f2e-e24b-42ee-80a8-61d1a435481e",
   "metadata": {
    "tags": []
   },
   "outputs": [
    {
     "data": {
      "text/html": [
       "<style>#sk-container-id-4 {color: black;}#sk-container-id-4 pre{padding: 0;}#sk-container-id-4 div.sk-toggleable {background-color: white;}#sk-container-id-4 label.sk-toggleable__label {cursor: pointer;display: block;width: 100%;margin-bottom: 0;padding: 0.3em;box-sizing: border-box;text-align: center;}#sk-container-id-4 label.sk-toggleable__label-arrow:before {content: \"▸\";float: left;margin-right: 0.25em;color: #696969;}#sk-container-id-4 label.sk-toggleable__label-arrow:hover:before {color: black;}#sk-container-id-4 div.sk-estimator:hover label.sk-toggleable__label-arrow:before {color: black;}#sk-container-id-4 div.sk-toggleable__content {max-height: 0;max-width: 0;overflow: hidden;text-align: left;background-color: #f0f8ff;}#sk-container-id-4 div.sk-toggleable__content pre {margin: 0.2em;color: black;border-radius: 0.25em;background-color: #f0f8ff;}#sk-container-id-4 input.sk-toggleable__control:checked~div.sk-toggleable__content {max-height: 200px;max-width: 100%;overflow: auto;}#sk-container-id-4 input.sk-toggleable__control:checked~label.sk-toggleable__label-arrow:before {content: \"▾\";}#sk-container-id-4 div.sk-estimator input.sk-toggleable__control:checked~label.sk-toggleable__label {background-color: #d4ebff;}#sk-container-id-4 div.sk-label input.sk-toggleable__control:checked~label.sk-toggleable__label {background-color: #d4ebff;}#sk-container-id-4 input.sk-hidden--visually {border: 0;clip: rect(1px 1px 1px 1px);clip: rect(1px, 1px, 1px, 1px);height: 1px;margin: -1px;overflow: hidden;padding: 0;position: absolute;width: 1px;}#sk-container-id-4 div.sk-estimator {font-family: monospace;background-color: #f0f8ff;border: 1px dotted black;border-radius: 0.25em;box-sizing: border-box;margin-bottom: 0.5em;}#sk-container-id-4 div.sk-estimator:hover {background-color: #d4ebff;}#sk-container-id-4 div.sk-parallel-item::after {content: \"\";width: 100%;border-bottom: 1px solid gray;flex-grow: 1;}#sk-container-id-4 div.sk-label:hover label.sk-toggleable__label {background-color: #d4ebff;}#sk-container-id-4 div.sk-serial::before {content: \"\";position: absolute;border-left: 1px solid gray;box-sizing: border-box;top: 0;bottom: 0;left: 50%;z-index: 0;}#sk-container-id-4 div.sk-serial {display: flex;flex-direction: column;align-items: center;background-color: white;padding-right: 0.2em;padding-left: 0.2em;position: relative;}#sk-container-id-4 div.sk-item {position: relative;z-index: 1;}#sk-container-id-4 div.sk-parallel {display: flex;align-items: stretch;justify-content: center;background-color: white;position: relative;}#sk-container-id-4 div.sk-item::before, #sk-container-id-4 div.sk-parallel-item::before {content: \"\";position: absolute;border-left: 1px solid gray;box-sizing: border-box;top: 0;bottom: 0;left: 50%;z-index: -1;}#sk-container-id-4 div.sk-parallel-item {display: flex;flex-direction: column;z-index: 1;position: relative;background-color: white;}#sk-container-id-4 div.sk-parallel-item:first-child::after {align-self: flex-end;width: 50%;}#sk-container-id-4 div.sk-parallel-item:last-child::after {align-self: flex-start;width: 50%;}#sk-container-id-4 div.sk-parallel-item:only-child::after {width: 0;}#sk-container-id-4 div.sk-dashed-wrapped {border: 1px dashed gray;margin: 0 0.4em 0.5em 0.4em;box-sizing: border-box;padding-bottom: 0.4em;background-color: white;}#sk-container-id-4 div.sk-label label {font-family: monospace;font-weight: bold;display: inline-block;line-height: 1.2em;}#sk-container-id-4 div.sk-label-container {text-align: center;}#sk-container-id-4 div.sk-container {/* jupyter's `normalize.less` sets `[hidden] { display: none; }` but bootstrap.min.css set `[hidden] { display: none !important; }` so we also need the `!important` here to be able to override the default hidden behavior on the sphinx rendered scikit-learn.org. See: https://github.com/scikit-learn/scikit-learn/issues/21755 */display: inline-block !important;position: relative;}#sk-container-id-4 div.sk-text-repr-fallback {display: none;}</style><div id=\"sk-container-id-4\" class=\"sk-top-container\"><div class=\"sk-text-repr-fallback\"><pre>LogisticRegression(max_iter=1000)</pre><b>In a Jupyter environment, please rerun this cell to show the HTML representation or trust the notebook. <br />On GitHub, the HTML representation is unable to render, please try loading this page with nbviewer.org.</b></div><div class=\"sk-container\" hidden><div class=\"sk-item\"><div class=\"sk-estimator sk-toggleable\"><input class=\"sk-toggleable__control sk-hidden--visually\" id=\"sk-estimator-id-4\" type=\"checkbox\" checked><label for=\"sk-estimator-id-4\" class=\"sk-toggleable__label sk-toggleable__label-arrow\">LogisticRegression</label><div class=\"sk-toggleable__content\"><pre>LogisticRegression(max_iter=1000)</pre></div></div></div></div></div>"
      ],
      "text/plain": [
       "LogisticRegression(max_iter=1000)"
      ]
     },
     "execution_count": 105,
     "metadata": {},
     "output_type": "execute_result"
    }
   ],
   "source": [
    "# Initialize Logistic Regression model\n",
    "model = LogisticRegression(max_iter=1000)\n",
    "\n",
    "# Train the model\n",
    "model.fit(X_train_vectorized, y_train)\n"
   ]
  },
  {
   "cell_type": "code",
   "execution_count": 104,
   "id": "d6197e3b-823a-4201-980b-9ab53113ec48",
   "metadata": {
    "tags": []
   },
   "outputs": [
    {
     "name": "stdout",
     "output_type": "stream",
     "text": [
      "  (0, 7292)\t0.41767186502252557\n",
      "  (0, 6000)\t0.4680698395608404\n",
      "  (0, 5005)\t0.15609742734322185\n",
      "  (0, 4430)\t0.30336397630204237\n",
      "  (0, 4391)\t0.4418220734985761\n",
      "  (0, 4320)\t0.21318378103839902\n",
      "  (0, 2449)\t0.2950479919950813\n",
      "  (0, 2076)\t0.22764660605597997\n",
      "  (0, 1308)\t0.3324670894443398\n",
      "  (1, 8410)\t0.3824863371358602\n",
      "  (1, 7467)\t0.3098307095347259\n",
      "  (1, 7099)\t0.45752903828848235\n",
      "  (1, 7056)\t0.12349782797914981\n",
      "  (1, 6736)\t0.34968132047089473\n",
      "  (1, 6317)\t0.16824105531620404\n",
      "  (1, 6126)\t0.1319254585804334\n",
      "  (1, 5891)\t0.2580762671585871\n",
      "  (1, 5789)\t0.3034720885435758\n",
      "  (1, 4963)\t0.3098307095347259\n",
      "  (1, 4450)\t0.2584004928194214\n",
      "  (1, 3179)\t0.11132826115252316\n",
      "  (1, 440)\t0.176860568109875\n",
      "  (2, 8417)\t0.11594995532789425\n",
      "  (2, 8236)\t0.18918595596870477\n",
      "  (2, 7839)\t0.1338889202728224\n",
      "  :\t:\n",
      "  (9964, 5891)\t0.27418434900891725\n",
      "  (9964, 5827)\t0.5795820752408312\n",
      "  (9964, 3179)\t0.2365538462445452\n",
      "  (9965, 3532)\t0.9309308911019429\n",
      "  (9965, 3179)\t0.36519539426468994\n",
      "  (9966, 5966)\t0.6900757945859729\n",
      "  (9966, 440)\t0.7237371053956942\n",
      "  (9967, 5966)\t0.5489749041203164\n",
      "  (9967, 571)\t0.8358388329373608\n",
      "  (9968, 7695)\t0.5697687880495044\n",
      "  (9968, 1544)\t0.821805042674112\n",
      "  (9969, 5966)\t0.7306973499371621\n",
      "  (9969, 5005)\t0.6827015327321366\n",
      "  (9970, 3259)\t1.0\n",
      "  (9971, 3259)\t1.0\n",
      "  (9972, 4316)\t0.635311719818155\n",
      "  (9972, 2598)\t0.33986355768709964\n",
      "  (9972, 1136)\t0.365944421626313\n",
      "  (9972, 193)\t0.5890301020309138\n",
      "  (9973, 3259)\t1.0\n",
      "  (9974, 8029)\t0.7253553126321859\n",
      "  (9974, 3508)\t0.29465602447511136\n",
      "  (9974, 2584)\t0.5392999516433398\n",
      "  (9974, 816)\t0.3101500601874485\n",
      "  (9975, 5027)\t1.0\n"
     ]
    }
   ],
   "source": [
    "from sklearn.feature_extraction.text import TfidfTransformer\n",
    "from sklearn.feature_extraction.text import CountVectorizer\n",
    "\n",
    "# Preprocess the text data\n",
    "data['cleaned_review'] = data['review'].apply(preprocess_text)\n",
    "\n",
    "# Initialize CountVectorizer to convert text into a term-document matrix\n",
    "vectorizer = CountVectorizer()\n",
    "X = vectorizer.fit_transform(data['cleaned_review'])\n",
    "\n",
    "# Initialize TfidfTransformer and fit it on the term-document matrix\n",
    "tfidf_transformer = TfidfTransformer()\n",
    "X_tfidf = tfidf_transformer.fit_transform(X)\n",
    "\n",
    "# Now X_tfidf contains the TF-IDF weighted document-term matrix\n",
    "print(X_tfidf)"
   ]
  },
  {
   "cell_type": "code",
   "execution_count": 106,
   "id": "afeaac94-871e-443d-9624-08d05bf413e7",
   "metadata": {
    "tags": []
   },
   "outputs": [],
   "source": [
    "# Make predictions on the test set\n",
    "y_pred = model.predict(X_test_vectorized)\n"
   ]
  },
  {
   "cell_type": "code",
   "execution_count": 107,
   "id": "74f6c037-3ffb-4ad8-a1e1-db9e81447191",
   "metadata": {
    "tags": []
   },
   "outputs": [
    {
     "name": "stdout",
     "output_type": "stream",
     "text": [
      "Accuracy: 0.655310621242485\n",
      "Classification Report:\n",
      "              precision    recall  f1-score   support\n",
      "\n",
      "           1       0.69      0.56      0.62       141\n",
      "           2       0.43      0.10      0.16        59\n",
      "           3       0.36      0.24      0.28       156\n",
      "           4       0.44      0.26      0.33       468\n",
      "           5       0.72      0.91      0.80      1172\n",
      "\n",
      "    accuracy                           0.66      1996\n",
      "   macro avg       0.53      0.41      0.44      1996\n",
      "weighted avg       0.61      0.66      0.62      1996\n",
      "\n",
      "Confusion Matrix:\n",
      "[[  79    3   18    9   32]\n",
      " [  17    6   10    9   17]\n",
      " [   7    3   37   46   63]\n",
      " [   8    2   26  122  310]\n",
      " [   4    0   13   91 1064]]\n"
     ]
    }
   ],
   "source": [
    "from sklearn.metrics import accuracy_score, classification_report, confusion_matrix\n",
    "\n",
    "# Calculate accuracy\n",
    "accuracy = accuracy_score(y_test, y_pred)\n",
    "print(\"Accuracy:\", accuracy)\n",
    "\n",
    "# Generate classification report\n",
    "print(\"Classification Report:\")\n",
    "print(classification_report(y_test, y_pred))\n",
    "\n",
    "# Generate confusion matrix\n",
    "print(\"Confusion Matrix:\")\n",
    "print(confusion_matrix(y_test, y_pred))"
   ]
  },
  {
   "cell_type": "code",
   "execution_count": 108,
   "id": "1cbcb377-6667-49d0-8271-286fd0c94c78",
   "metadata": {
    "tags": []
   },
   "outputs": [
    {
     "data": {
      "image/png": "[encoded data removed]",
      "text/plain": [
       "<Figure size 400x400 with 1 Axes>"
      ]
     },
     "metadata": {},
     "output_type": "display_data"
    }
   ],
   "source": [
    "# Get the ratings and their counts\n",
    "ratings_count = data['rating'].value_counts()\n",
    "\n",
    "# Extract ratings and their counts\n",
    "ratings = ratings_count.index\n",
    "counts = ratings_count.values\n",
    "\n",
    "# Define custom colors\n",
    "custom_colors = [\"skyblue\", \"yellowgreen\", 'tomato', \"blue\", \"red\"]\n",
    "central_circle = plt.Circle((0, 0), 0.5, color='white')\n",
    "# Create the pie chart\n",
    "plt.figure(figsize=(4,4))\n",
    "plt.pie(counts, labels=ratings, colors=custom_colors, autopct='%1.1f%%')\n",
    "plt.title(\" Flipkart Reviews\")\n",
    "plt.show()"
   ]
  },
  {
   "cell_type": "code",
   "execution_count": 109,
   "id": "d06ad837-dad3-4076-b70e-b1ca8683c302",
   "metadata": {
    "tags": []
   },
   "outputs": [
    {
     "name": "stdout",
     "output_type": "stream",
     "text": [
      "Index(['review', 'rating', 'cleaned_review'], dtype='object')\n"
     ]
    }
   ],
   "source": [
    "print(data.columns)"
   ]
  },
  {
   "cell_type": "code",
   "execution_count": 110,
   "id": "b7298355-2d05-484d-9116-71060f08e7f7",
   "metadata": {
    "tags": []
   },
   "outputs": [],
   "source": [
    "sentiments = SentimentIntensityAnalyzer()\n",
    "data[\"Positive\"] = [sentiments.polarity_scores(i)[\"pos\"] for i in data[\"review\"]]\n",
    "data[\"Negative\"] = [sentiments.polarity_scores(i)[\"neg\"] for i in data[\"review\"]]\n",
    "data[\"Neutral\"] = [sentiments.polarity_scores(i)[\"neu\"] for i in data[\"review\"]]"
   ]
  },
  {
   "cell_type": "code",
   "execution_count": 111,
   "id": "f6c83fe2-3428-42f8-af0d-8ac74e94ceb8",
   "metadata": {
    "tags": []
   },
   "outputs": [],
   "source": [
    "x = sum(data[\"Positive\"])\n",
    "y = sum(data[\"Negative\"])\n",
    "z=sum(data[\"Neutral\"])"
   ]
  },
  {
   "cell_type": "code",
   "execution_count": 112,
   "id": "519354ca-63e7-4edf-a1f0-da857787c578",
   "metadata": {
    "tags": []
   },
   "outputs": [],
   "source": [
    "def sentiment_score(x,y,z):\n",
    "    if(x>y) and (x>z):\n",
    "        print(\"Positive\")\n",
    "    elif(y>x) and (y>z):\n",
    "        print (\"Negative\")\n",
    "    else:\n",
    "        print(\"Neutral\")"
   ]
  },
  {
   "cell_type": "code",
   "execution_count": 113,
   "id": "629b16e2-3db6-464b-b384-fa5cb63a207a",
   "metadata": {},
   "outputs": [
    {
     "name": "stdout",
     "output_type": "stream",
     "text": [
      "review             object\n",
      "rating              int64\n",
      "cleaned_review     object\n",
      "Positive          float64\n",
      "Negative          float64\n",
      "Neutral           float64\n",
      "dtype: object\n"
     ]
    }
   ],
   "source": [
    "print(data.dtypes)"
   ]
  },
  {
   "cell_type": "code",
   "execution_count": 114,
   "id": "a2e2a8e2-0e83-4800-8a32-7820046081fa",
   "metadata": {
    "tags": []
   },
   "outputs": [
    {
     "name": "stdout",
     "output_type": "stream",
     "text": [
      "Neutral\n"
     ]
    }
   ],
   "source": [
    "sentiment_score(x,y,z)"
   ]
  },
  {
   "cell_type": "code",
   "execution_count": 115,
   "id": "0f26be2d-7b7d-4a93-8ffb-bd9dae1edd3f",
   "metadata": {
    "tags": []
   },
   "outputs": [
    {
     "data": {
      "image/png": "[encoded data removed]",
      "text/plain": [
       "<Figure size 800x600 with 1 Axes>"
      ]
     },
     "metadata": {},
     "output_type": "display_data"
    }
   ],
   "source": [
    "sentiments = ['Positive', 'Negative', 'Neutral']\n",
    "\n",
    "plt.figure(figsize=(8, 6))\n",
    "plt.bar(sentiments, [x, y, z], color=['green', 'red', 'blue'])\n",
    "plt.xlabel('Sentiment')\n",
    "plt.ylabel('Count')\n",
    "plt.title('Sentiment Distribution')\n",
    "plt.show()\n"
   ]
  },
  {
   "cell_type": "code",
   "execution_count": null,
   "id": "6c5ccf43-131c-477a-93d4-3bbc4476f133",
   "metadata": {},
   "outputs": [],
   "source": []
  }
 ],
 "metadata": {
  "kernelspec": {
   "display_name": "Python 3 (ipykernel)",
   "language": "python",
   "name": "python3"
  },
  "language_info": {
   "codemirror_mode": {
    "name": "ipython",
    "version": 3
   },
   "file_extension": ".py",
   "mimetype": "text/x-python",
   "name": "python",
   "nbconvert_exporter": "python",
   "pygments_lexer": "ipython3",
   "version": "3.11.5"
  }
 },
 "nbformat": 4,
 "nbformat_minor": 5
}
